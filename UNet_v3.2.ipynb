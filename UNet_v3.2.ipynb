{
 "cells": [
  {
   "cell_type": "code",
   "execution_count": 1,
   "id": "a87c049b",
   "metadata": {},
   "outputs": [],
   "source": [
    "# from https://github.com/H-arshit/UNET-On-COCO/blob/master/tf_Keras_COCO_UNET.ipynb\n",
    "# Importing Data From COCO\n",
    "\n",
    "from pycocotools import coco, cocoeval, _mask\n",
    "from pycocotools import mask as maskUtils \n",
    "import array\n",
    "import numpy as np\n",
    "import skimage.io as io\n",
    "import matplotlib.pyplot as plt\n",
    "import pylab\n",
    "import os\n",
    "import shutil\n",
    "pylab.rcParams['figure.figsize'] = (8.0, 10.0)\n",
    "%matplotlib inline"
   ]
  },
  {
   "cell_type": "code",
   "execution_count": null,
   "id": "4f9e37c0",
   "metadata": {},
   "outputs": [],
   "source": [
    "COCO_DIR = 'coco-2017'\n",
    "TRAIN_IMG = COCO_DIR + '/train/data'\n",
    "VAL_IMG = COCO_DIR + '/validation/data'"
   ]
  },
  {
   "cell_type": "code",
   "execution_count": null,
   "id": "37e3adcd",
   "metadata": {},
   "outputs": [],
   "source": [
    "CATEGORY_NAMES=['person']\n",
    "\n",
    "ANNOTATION_FILE_VAL = 'coco-2017/raw/instances_val2017.json'\n",
    "ANNOTATION_FILE_TRAIN = 'coco-2017/raw/instances_train2017.json'\n",
    "\n",
    "\n",
    "coco_train = coco.COCO(ANNOTATION_FILE_TRAIN)\n",
    "catIds_train = coco_train.getCatIds(catNms=CATEGORY_NAMES);\n",
    "imgIds_train = coco_train.getImgIds(catIds=catIds_train);\n",
    "imgDict_train = coco_train.loadImgs(imgIds_train)\n",
    "len(imgIds_train) , len(catIds_train)\n",
    "\n",
    "\n",
    "coco_val = coco.COCO(ANNOTATION_FILE_VAL)\n",
    "catIds_val = coco_val.getCatIds(catNms=CATEGORY_NAMES);\n",
    "imgIds_val = coco_val.getImgIds(catIds=catIds_val);\n",
    "imgDict_val = coco_val.loadImgs(imgIds_val)\n",
    "len(imgIds_val) , len(catIds_val)"
   ]
  },
  {
   "cell_type": "code",
   "execution_count": null,
   "id": "9a465c4a",
   "metadata": {},
   "outputs": [],
   "source": [
    "from random import shuffle\n",
    "\n",
    "shuffle(imgIds_train)\n",
    "shuffle(imgIds_val)\n",
    "\n",
    "imgIds_train = imgIds_train[0:6000]\n",
    "imgIds_val = imgIds_val[0:600]"
   ]
  },
  {
   "cell_type": "code",
   "execution_count": null,
   "id": "873bc80a",
   "metadata": {},
   "outputs": [],
   "source": [
    "!mkdir train_small"
   ]
  },
  {
   "cell_type": "code",
   "execution_count": null,
   "id": "36c1556a",
   "metadata": {},
   "outputs": [],
   "source": [
    "train_images_person = [\"{0:012d}.jpg\".format(ids) for ids in imgIds_train]\n",
    "# del_img_train = set(os.listdir(\"coco-2017/train/data\")) - set(train_images_person)\n",
    "for file_name in train_images_person:\n",
    "    src = TRAIN_IMG + \"/\" + file_name\n",
    "    file_path = \"train_small/\" + file_name\n",
    "    if not os.path.exists(file_path):\n",
    "        shutil.copy(src, file_path)"
   ]
  },
  {
   "cell_type": "code",
   "execution_count": null,
   "id": "6bb68898",
   "metadata": {},
   "outputs": [],
   "source": [
    "print(len(os.listdir(\"train_small\")))"
   ]
  },
  {
   "cell_type": "code",
   "execution_count": null,
   "id": "4ad8e965",
   "metadata": {},
   "outputs": [],
   "source": [
    "!mkdir val_small"
   ]
  },
  {
   "cell_type": "code",
   "execution_count": null,
   "id": "ea4bc77c",
   "metadata": {},
   "outputs": [],
   "source": [
    "val_images_person = [\"{0:012d}.jpg\".format(ids) for ids in imgIds_val]\n",
    "# del_img_val = set(os.listdir(VAL_IMG)) - set(val_images_person)\n",
    "i = 1\n",
    "for file_name in val_images_person:\n",
    "    src = VAL_IMG + \"/\" + file_name\n",
    "    file_path = \"val_small/\" + file_name\n",
    "    if not os.path.exists(file_path):\n",
    "        print(i)\n",
    "        shutil.copy(src, file_path)\n",
    "        i+=1\n",
    "\n",
    "len(os.listdir(\"val_small\"))"
   ]
  },
  {
   "cell_type": "code",
   "execution_count": null,
   "id": "8b1cd172",
   "metadata": {},
   "outputs": [],
   "source": [
    "from PIL import Image"
   ]
  },
  {
   "cell_type": "code",
   "execution_count": null,
   "id": "37392026",
   "metadata": {},
   "outputs": [],
   "source": [
    "!mkdir mask_train_2017"
   ]
  },
  {
   "cell_type": "code",
   "execution_count": null,
   "id": "8db4b4c8",
   "metadata": {},
   "outputs": [],
   "source": [
    "count = 0 \n",
    "\n",
    "for ID in imgIds_train:\n",
    "\n",
    "    file_path = \"./mask_train_2017/COCO_train2017_{0:012d}.jpg\".format(ID)\n",
    "  \n",
    "    sampleImgIds = coco_train.getImgIds(imgIds = [ID])\n",
    "    sampleImgDict = coco_train.loadImgs(sampleImgIds[np.random.randint(0,len(sampleImgIds))])[0]\n",
    "\n",
    "    annIds = coco_train.getAnnIds(imgIds=sampleImgDict['id'], catIds=catIds_train, iscrowd=0)\n",
    "    anns = coco_train.loadAnns(annIds)\n",
    "\n",
    "\n",
    "    mask = coco_train.annToMask(anns[0])\n",
    "    for i in range(len(anns)):\n",
    "        mask = mask | coco_train.annToMask(anns[i])\n",
    "  \n",
    "    mask = Image.fromarray(mask * 255 , mode = \"L\")\n",
    "    mask.save(file_path)\n",
    "    count = count + 1\n",
    "    print(count)"
   ]
  },
  {
   "cell_type": "code",
   "execution_count": null,
   "id": "3be4f6ca",
   "metadata": {},
   "outputs": [],
   "source": [
    "!mkdir mask_val_2017"
   ]
  },
  {
   "cell_type": "code",
   "execution_count": null,
   "id": "9ea9700c",
   "metadata": {},
   "outputs": [],
   "source": [
    "count = 0 \n",
    "for ID in imgIds_val:\n",
    "\n",
    "    file_path = \"./mask_val_2017/COCO_val2017_{0:012d}.jpg\".format(ID)\n",
    "  \n",
    "    sampleImgIds = coco_val.getImgIds(imgIds = [ID])\n",
    "    sampleImgDict = coco_val.loadImgs(sampleImgIds[np.random.randint(0,len(sampleImgIds))])[0]\n",
    "\n",
    "    annIds = coco_val.getAnnIds(imgIds=sampleImgDict['id'], catIds=catIds_val, iscrowd=0)\n",
    "    anns = coco_val.loadAnns(annIds)\n",
    "\n",
    "\n",
    "    mask = coco_val.annToMask(anns[0])\n",
    "    for i in range(len(anns)):\n",
    "        mask = mask | coco_val.annToMask(anns[i])\n",
    "  \n",
    "    mask = Image.fromarray(mask * 255 , mode = \"L\")\n",
    "    mask.save(file_path)\n",
    "  \n",
    "    count = count + 1\n",
    "    print(count)"
   ]
  },
  {
   "cell_type": "markdown",
   "id": "db17f530",
   "metadata": {},
   "source": [
    "# Data Generator"
   ]
  },
  {
   "cell_type": "code",
   "execution_count": 2,
   "id": "e76a11f4",
   "metadata": {},
   "outputs": [
    {
     "name": "stderr",
     "output_type": "stream",
     "text": [
      "2022-06-10 07:38:03.082309: W tensorflow/stream_executor/platform/default/dso_loader.cc:64] Could not load dynamic library 'libcudart.so.11.0'; dlerror: libcudart.so.11.0: cannot open shared object file: No such file or directory; LD_LIBRARY_PATH: /home/mmkeskar/.local/lib/python3.9/site-packages/cv2/../../lib64:/usr/local/nvidia/lib64:/usr/local/cuda/lib64\n",
      "2022-06-10 07:38:03.082379: I tensorflow/stream_executor/cuda/cudart_stub.cc:29] Ignore above cudart dlerror if you do not have a GPU set up on your machine.\n"
     ]
    }
   ],
   "source": [
    "import os\n",
    "import sys\n",
    "import random\n",
    "\n",
    "import numpy as np\n",
    "import cv2\n",
    "import tensorflow as tf\n",
    "from tensorflow.keras.layers import *\n",
    "from tensorflow.keras.models import *\n",
    "from tensorflow.keras.optimizers import *\n",
    "\n",
    "\n",
    "seed = 0\n",
    "\n",
    "random.seed = seed\n",
    "np.random.seed = seed "
   ]
  },
  {
   "cell_type": "code",
   "execution_count": 3,
   "id": "fd5c0092",
   "metadata": {},
   "outputs": [],
   "source": [
    "class DataGen(tf.keras.utils.Sequence):\n",
    "  \n",
    "    def __init__(self , path_input , path_mask , batch_size = 8 , image_size = 128 , split='train'):\n",
    "    \n",
    "        self.ids = os.listdir(path_input)\n",
    "        self.path_input = path_input\n",
    "        self.path_mask = path_mask\n",
    "        self.batch_size = batch_size\n",
    "        self.image_size = image_size\n",
    "        self.on_epoch_end()\n",
    "        self.split = split\n",
    "  \n",
    "    def __load__(self , id_name):\n",
    "    \n",
    "        image_path = os.path.join(self.path_input , id_name)\n",
    "        mask_path = os.path.join(self.path_mask , \"COCO_{}2017_{}\".format(self.split, id_name)) \n",
    "    \n",
    "        image = cv2.imread(image_path , 1) # 1 specifies RGB format\n",
    "        image = cv2.resize(image , (self.image_size , self.image_size)) # resizing before inserting to the network\n",
    "    \n",
    "        mask = cv2.imread(mask_path)\n",
    "        mask = cv2.resize(mask , (self.image_size , self.image_size))\n",
    "        mask = mask[:, :, 0].reshape((self.image_size , self.image_size , 1))\n",
    "      \n",
    "        #normalize image\n",
    "        image = image / 255.0\n",
    "        mask = mask / 255.0\n",
    "    \n",
    "        return image , mask\n",
    "  \n",
    "    def __getitem__(self , index):\n",
    "    \n",
    "        if (index + 1)*self.batch_size > len(self.ids):\n",
    "            self.batch_size = len(self.ids) - index * self.batch_size\n",
    "        \n",
    "        file_batch = self.ids[index * self.batch_size : (index + 1) * self.batch_size]\n",
    "    \n",
    "        images = []\n",
    "        masks = []\n",
    "    \n",
    "        for id_name in file_batch : \n",
    "      \n",
    "            _img , _mask = self.__load__(id_name)\n",
    "            images.append(_img)\n",
    "            masks.append(_mask)\n",
    "    \n",
    "    \n",
    "        images = np.array(images)\n",
    "        masks = np.array(masks)\n",
    "    \n",
    "    \n",
    "        return images , masks\n",
    "  \n",
    "  \n",
    "    def on_epoch_end(self):\n",
    "        pass\n",
    "  \n",
    "  \n",
    "    def __len__(self):\n",
    "    \n",
    "        return int(np.ceil(len(self.ids) / float(self.batch_size)))"
   ]
  },
  {
   "cell_type": "markdown",
   "id": "9f8d3861",
   "metadata": {},
   "source": [
    "# UNet"
   ]
  },
  {
   "cell_type": "code",
   "execution_count": 3,
   "id": "4d2ccade",
   "metadata": {},
   "outputs": [],
   "source": [
    "def down_block(\n",
    "    input_tensor,\n",
    "    no_filters,\n",
    "    kernel_size=(3, 3),\n",
    "    strides=(1, 1),\n",
    "    padding=\"same\",\n",
    "    kernel_initializer=\"he_normal\",\n",
    "    max_pool_window=(2, 2),\n",
    "    max_pool_stride=(2, 2)\n",
    "):\n",
    "    conv = Conv2D(\n",
    "        filters=no_filters,\n",
    "        kernel_size=kernel_size,\n",
    "        strides=strides,\n",
    "        activation=None,\n",
    "        padding=padding,\n",
    "        kernel_initializer=kernel_initializer\n",
    "    )(input_tensor)\n",
    "\n",
    "    conv = BatchNormalization(scale=True)(conv)\n",
    "\n",
    "    conv = Activation(\"relu\")(conv)\n",
    "\n",
    "    conv = Conv2D(\n",
    "        filters=no_filters,\n",
    "        kernel_size=kernel_size,\n",
    "        strides=strides,\n",
    "        activation=None,\n",
    "        padding=padding,\n",
    "        kernel_initializer=kernel_initializer\n",
    "    )(conv)\n",
    "\n",
    "    conv = BatchNormalization(scale=True)(conv)\n",
    "\n",
    "    # conv for skip connection\n",
    "    conv = Activation(\"relu\")(conv)\n",
    "\n",
    "    pool = MaxPooling2D(pool_size=max_pool_window, strides=max_pool_stride)(conv)\n",
    "\n",
    "    return conv, pool"
   ]
  },
  {
   "cell_type": "code",
   "execution_count": 4,
   "id": "1cff0c4e",
   "metadata": {},
   "outputs": [],
   "source": [
    "def bottle_neck(\n",
    "    input_tensor,\n",
    "    no_filters,\n",
    "    kernel_size=(3, 3),\n",
    "    strides=(1, 1),\n",
    "    padding=\"same\",\n",
    "    kernel_initializer=\"he_normal\"\n",
    "):\n",
    "    conv = Conv2D(\n",
    "        filters=no_filters,\n",
    "        kernel_size=kernel_size,\n",
    "        strides=strides,\n",
    "        activation=None,\n",
    "        padding=padding,\n",
    "        kernel_initializer=kernel_initializer\n",
    "    )(input_tensor)\n",
    "\n",
    "    conv = BatchNormalization(scale=True)(conv)\n",
    "\n",
    "    conv = Activation(\"relu\")(conv)\n",
    "\n",
    "    conv = Conv2D(\n",
    "        filters=no_filters,\n",
    "        kernel_size=kernel_size,\n",
    "        strides=strides,\n",
    "        activation=None,\n",
    "        padding=padding,\n",
    "        kernel_initializer=kernel_initializer\n",
    "    )(conv)\n",
    "\n",
    "    conv = BatchNormalization(scale=True)(conv)\n",
    "\n",
    "    conv = Activation(\"relu\")(conv)\n",
    "\n",
    "    return conv"
   ]
  },
  {
   "cell_type": "code",
   "execution_count": 5,
   "id": "6366e8e5",
   "metadata": {},
   "outputs": [],
   "source": [
    "def up_block(    \n",
    "    input_tensor,\n",
    "    no_filters,\n",
    "    skip_connection, \n",
    "    kernel_size=(3, 3),\n",
    "    strides=(1, 1),\n",
    "    upsampling_factor = (2,2),\n",
    "    max_pool_window = (2,2),\n",
    "    padding=\"same\",\n",
    "    kernel_initializer=\"he_normal\"):\n",
    "    \n",
    "    \n",
    "    conv = Conv2D(\n",
    "        filters = no_filters,\n",
    "        kernel_size= max_pool_window,\n",
    "        strides = strides,\n",
    "        activation = None,\n",
    "        padding = padding,\n",
    "        kernel_initializer=kernel_initializer\n",
    "    )(UpSampling2D(size = upsampling_factor)(input_tensor))\n",
    "    \n",
    "    conv = BatchNormalization(scale=True)(conv)\n",
    "\n",
    "    conv = Activation(\"relu\")(conv) \n",
    "    \n",
    "    \n",
    "    conv = concatenate( [skip_connection , conv]  , axis = -1)\n",
    "    \n",
    "    \n",
    "    conv = Conv2D(\n",
    "        filters=no_filters,\n",
    "        kernel_size=kernel_size,\n",
    "        strides=strides,\n",
    "        activation=None,\n",
    "        padding=padding,\n",
    "        kernel_initializer=kernel_initializer\n",
    "    )(conv)\n",
    "\n",
    "    conv = BatchNormalization(scale=True)(conv)\n",
    "\n",
    "    conv = Activation(\"relu\")(conv)\n",
    "\n",
    "    conv = Conv2D(\n",
    "        filters=no_filters,\n",
    "        kernel_size=kernel_size,\n",
    "        strides=strides,\n",
    "        activation=None,\n",
    "        padding=padding,\n",
    "        kernel_initializer=kernel_initializer\n",
    "    )(conv)\n",
    "\n",
    "    conv = BatchNormalization(scale=True)(conv)\n",
    "\n",
    "    conv = Activation(\"relu\")(conv)\n",
    "    \n",
    "    return conv"
   ]
  },
  {
   "cell_type": "code",
   "execution_count": 6,
   "id": "c831506f",
   "metadata": {},
   "outputs": [],
   "source": [
    "def output_block(input_tensor,\n",
    "    padding=\"same\",\n",
    "    kernel_initializer=\"he_normal\"\n",
    "):\n",
    "    \n",
    "    conv = Conv2D(\n",
    "        filters=2,\n",
    "        kernel_size=(3,3),\n",
    "        strides=(1,1),\n",
    "        activation=\"relu\",\n",
    "        padding=padding,\n",
    "        kernel_initializer=kernel_initializer\n",
    "    )(input_tensor)\n",
    "    \n",
    "    \n",
    "    conv = Conv2D(\n",
    "        filters=1,\n",
    "        kernel_size=(1,1),\n",
    "        strides=(1,1),\n",
    "        activation=\"relu\",\n",
    "        padding=padding,\n",
    "        kernel_initializer=kernel_initializer\n",
    "    )(conv)\n",
    "    \n",
    "    conv = Conv2D(\n",
    "        filters=1,\n",
    "        kernel_size=(1,1),\n",
    "        strides=(1,1),\n",
    "        activation=\"sigmoid\",\n",
    "        padding=padding,\n",
    "        kernel_initializer=kernel_initializer\n",
    "    )(conv)\n",
    "    \n",
    "    \n",
    "    return conv"
   ]
  },
  {
   "cell_type": "code",
   "execution_count": 7,
   "id": "b800a215",
   "metadata": {},
   "outputs": [],
   "source": [
    "def UNet(input_shape = (128,128,3)):\n",
    "    \n",
    "    filter_size = [32,64,128,256,512]\n",
    "    \n",
    "    inputs = Input(shape = input_shape)\n",
    "    \n",
    "    d1 , p1 = down_block(input_tensor= inputs,\n",
    "                         no_filters=filter_size[0],\n",
    "                         kernel_size = (3,3),\n",
    "                         strides=(1,1),\n",
    "                         padding=\"same\",\n",
    "                         kernel_initializer=\"he_normal\",\n",
    "                         max_pool_window=(2,2),\n",
    "                         max_pool_stride=(2,2))\n",
    "    \n",
    "    \n",
    "    d2 , p2 = down_block(input_tensor= p1,\n",
    "                         no_filters=filter_size[1],\n",
    "                         kernel_size = (3,3),\n",
    "                         strides=(1,1),\n",
    "                         padding=\"same\",\n",
    "                         kernel_initializer=\"he_normal\",\n",
    "                         max_pool_window=(2,2),\n",
    "                         max_pool_stride=(2,2))\n",
    "    \n",
    "    \n",
    "    \n",
    "    d3 , p3 = down_block(input_tensor= p2,\n",
    "                         no_filters=filter_size[2],\n",
    "                         kernel_size = (3,3),\n",
    "                         strides=(1,1),\n",
    "                         padding=\"same\",\n",
    "                         kernel_initializer=\"he_normal\",\n",
    "                         max_pool_window=(2,2),\n",
    "                         max_pool_stride=(2,2))\n",
    "    \n",
    "    \n",
    "    \n",
    "    d4 , p4 = down_block(input_tensor= p3,\n",
    "                         no_filters=filter_size[3],\n",
    "                         kernel_size = (3,3),\n",
    "                         strides=(1,1),\n",
    "                         padding=\"same\",\n",
    "                         kernel_initializer=\"he_normal\",\n",
    "                         max_pool_window=(2,2),\n",
    "                         max_pool_stride=(2,2))\n",
    "    \n",
    "    \n",
    "    b = bottle_neck(input_tensor= p4,\n",
    "                         no_filters=filter_size[4],\n",
    "                         kernel_size = (3,3),\n",
    "                         strides=(1,1),\n",
    "                         padding=\"same\",\n",
    "                         kernel_initializer=\"he_normal\")\n",
    "    \n",
    "    \n",
    "    \n",
    "    u4 = up_block(input_tensor = b,\n",
    "                  no_filters = filter_size[3],\n",
    "                  skip_connection = d4,\n",
    "                  kernel_size=(3, 3),\n",
    "                  strides=(1, 1),\n",
    "                  upsampling_factor = (2,2),\n",
    "                  max_pool_window = (2,2),\n",
    "                  padding=\"same\",\n",
    "                  kernel_initializer=\"he_normal\")\n",
    "    \n",
    "    u3 = up_block(input_tensor = u4,\n",
    "                  no_filters = filter_size[2],\n",
    "                  skip_connection = d3,\n",
    "                  kernel_size=(3, 3),\n",
    "                  strides=(1, 1),\n",
    "                  upsampling_factor = (2,2),\n",
    "                  max_pool_window = (2,2),\n",
    "                  padding=\"same\",\n",
    "                  kernel_initializer=\"he_normal\")\n",
    "    \n",
    "    \n",
    "    u2 = up_block(input_tensor = u3,\n",
    "                  no_filters = filter_size[1],\n",
    "                  skip_connection = d2,\n",
    "                  kernel_size=(3, 3),\n",
    "                  strides=(1, 1),\n",
    "                  upsampling_factor = (2,2),\n",
    "                  max_pool_window = (2,2),\n",
    "                  padding=\"same\",\n",
    "                  kernel_initializer=\"he_normal\")\n",
    "    \n",
    "    \n",
    "    u1 = up_block(input_tensor = u2,\n",
    "                  no_filters = filter_size[0],\n",
    "                  skip_connection = d1,\n",
    "                  kernel_size=(3, 3),\n",
    "                  strides=(1, 1),\n",
    "                  upsampling_factor = (2,2),\n",
    "                  max_pool_window = (2,2),\n",
    "                  padding=\"same\",\n",
    "                  kernel_initializer=\"he_normal\")\n",
    "    \n",
    "    \n",
    "    \n",
    "    output = output_block(input_tensor=u1 , \n",
    "                         padding = \"same\",\n",
    "                         kernel_initializer= \"he_normal\")\n",
    "    \n",
    "    model = Model(inputs = inputs , outputs = output)\n",
    "    \n",
    "    \n",
    "    return model"
   ]
  },
  {
   "cell_type": "code",
   "execution_count": 8,
   "id": "a8d03b72",
   "metadata": {},
   "outputs": [
    {
     "name": "stderr",
     "output_type": "stream",
     "text": [
      "2022-06-09 15:16:19.536285: W tensorflow/stream_executor/platform/default/dso_loader.cc:64] Could not load dynamic library 'libcudart.so.11.0'; dlerror: libcudart.so.11.0: cannot open shared object file: No such file or directory; LD_LIBRARY_PATH: /home/mmkeskar/.local/lib/python3.9/site-packages/cv2/../../lib64:/usr/local/nvidia/lib64:/usr/local/cuda/lib64\n",
      "2022-06-09 15:16:19.536408: W tensorflow/stream_executor/platform/default/dso_loader.cc:64] Could not load dynamic library 'libcublas.so.11'; dlerror: libcublas.so.11: cannot open shared object file: No such file or directory; LD_LIBRARY_PATH: /home/mmkeskar/.local/lib/python3.9/site-packages/cv2/../../lib64:/usr/local/nvidia/lib64:/usr/local/cuda/lib64\n",
      "2022-06-09 15:16:19.536479: W tensorflow/stream_executor/platform/default/dso_loader.cc:64] Could not load dynamic library 'libcublasLt.so.11'; dlerror: libcublasLt.so.11: cannot open shared object file: No such file or directory; LD_LIBRARY_PATH: /home/mmkeskar/.local/lib/python3.9/site-packages/cv2/../../lib64:/usr/local/nvidia/lib64:/usr/local/cuda/lib64\n",
      "2022-06-09 15:16:19.536546: W tensorflow/stream_executor/platform/default/dso_loader.cc:64] Could not load dynamic library 'libcufft.so.10'; dlerror: libcufft.so.10: cannot open shared object file: No such file or directory; LD_LIBRARY_PATH: /home/mmkeskar/.local/lib/python3.9/site-packages/cv2/../../lib64:/usr/local/nvidia/lib64:/usr/local/cuda/lib64\n",
      "2022-06-09 15:16:19.536613: W tensorflow/stream_executor/platform/default/dso_loader.cc:64] Could not load dynamic library 'libcurand.so.10'; dlerror: libcurand.so.10: cannot open shared object file: No such file or directory; LD_LIBRARY_PATH: /home/mmkeskar/.local/lib/python3.9/site-packages/cv2/../../lib64:/usr/local/nvidia/lib64:/usr/local/cuda/lib64\n",
      "2022-06-09 15:16:19.536678: W tensorflow/stream_executor/platform/default/dso_loader.cc:64] Could not load dynamic library 'libcusolver.so.11'; dlerror: libcusolver.so.11: cannot open shared object file: No such file or directory; LD_LIBRARY_PATH: /home/mmkeskar/.local/lib/python3.9/site-packages/cv2/../../lib64:/usr/local/nvidia/lib64:/usr/local/cuda/lib64\n",
      "2022-06-09 15:16:19.536743: W tensorflow/stream_executor/platform/default/dso_loader.cc:64] Could not load dynamic library 'libcusparse.so.11'; dlerror: libcusparse.so.11: cannot open shared object file: No such file or directory; LD_LIBRARY_PATH: /home/mmkeskar/.local/lib/python3.9/site-packages/cv2/../../lib64:/usr/local/nvidia/lib64:/usr/local/cuda/lib64\n",
      "2022-06-09 15:16:19.536808: W tensorflow/stream_executor/platform/default/dso_loader.cc:64] Could not load dynamic library 'libcudnn.so.8'; dlerror: libcudnn.so.8: cannot open shared object file: No such file or directory; LD_LIBRARY_PATH: /home/mmkeskar/.local/lib/python3.9/site-packages/cv2/../../lib64:/usr/local/nvidia/lib64:/usr/local/cuda/lib64\n",
      "2022-06-09 15:16:19.536822: W tensorflow/core/common_runtime/gpu/gpu_device.cc:1850] Cannot dlopen some GPU libraries. Please make sure the missing libraries mentioned above are installed properly if you would like to use GPU. Follow the guide at https://www.tensorflow.org/install/gpu for how to download and setup the required libraries for your platform.\n",
      "Skipping registering GPU devices...\n",
      "2022-06-09 15:16:19.537720: I tensorflow/core/platform/cpu_feature_guard.cc:193] This TensorFlow binary is optimized with oneAPI Deep Neural Network Library (oneDNN) to use the following CPU instructions in performance-critical operations:  AVX2 AVX512F FMA\n",
      "To enable them in other operations, rebuild TensorFlow with the appropriate compiler flags.\n"
     ]
    }
   ],
   "source": [
    "with tf.device('/GPU:0'):\n",
    "    model = UNet(input_shape = (128,128,3))\n",
    "    model.compile(optimizer = Adam(learning_rate = 1e-4), loss = 'binary_crossentropy', metrics = ['accuracy'])"
   ]
  },
  {
   "cell_type": "code",
   "execution_count": 9,
   "id": "abb3ad47",
   "metadata": {},
   "outputs": [],
   "source": [
    "image_size = 128 \n",
    "epochs = 10\n",
    "batch_size = 32"
   ]
  },
  {
   "cell_type": "code",
   "execution_count": 10,
   "id": "362be950",
   "metadata": {},
   "outputs": [
    {
     "name": "stdout",
     "output_type": "stream",
     "text": [
      "Epoch 1/10\n",
      " 72/187 [==========>...................] - ETA: 17:58 - loss: 0.7032 - accuracy: 0.7741"
     ]
    },
    {
     "name": "stderr",
     "output_type": "stream",
     "text": [
      "Premature end of JPEG file\n"
     ]
    },
    {
     "name": "stdout",
     "output_type": "stream",
     "text": [
      "187/187 [==============================] - 1350s 7s/step - loss: 0.6962 - accuracy: 0.7997 - val_loss: 0.6871 - val_accuracy: 0.8195\n",
      "Epoch 2/10\n",
      "187/187 [==============================] - 838s 4s/step - loss: 0.6841 - accuracy: 0.8172 - val_loss: 0.6811 - val_accuracy: 0.8174\n",
      "Epoch 3/10\n",
      "187/187 [==============================] - 822s 4s/step - loss: 0.6776 - accuracy: 0.8274 - val_loss: 0.6750 - val_accuracy: 0.8178\n",
      "Epoch 4/10\n",
      "187/187 [==============================] - 852s 5s/step - loss: 0.6721 - accuracy: 0.8185 - val_loss: 0.6692 - val_accuracy: 0.8179\n",
      "Epoch 5/10\n",
      "187/187 [==============================] - 830s 4s/step - loss: 0.6664 - accuracy: 0.8185 - val_loss: 0.6636 - val_accuracy: 0.8179\n",
      "Epoch 6/10\n",
      "187/187 [==============================] - 976s 5s/step - loss: 0.6602 - accuracy: 0.8238 - val_loss: 0.6579 - val_accuracy: 0.8179\n",
      "Epoch 7/10\n",
      "187/187 [==============================] - 1074s 6s/step - loss: 0.6547 - accuracy: 0.8220 - val_loss: 0.6524 - val_accuracy: 0.8179\n",
      "Epoch 8/10\n",
      "187/187 [==============================] - 1095s 6s/step - loss: 0.6490 - accuracy: 0.8233 - val_loss: 0.6470 - val_accuracy: 0.8179\n",
      "Epoch 9/10\n",
      "187/187 [==============================] - 1056s 6s/step - loss: 0.6441 - accuracy: 0.8196 - val_loss: 0.6457 - val_accuracy: 0.8064\n",
      "Epoch 10/10\n",
      "187/187 [==============================] - 1051s 6s/step - loss: 0.6372 - accuracy: 0.8271 - val_loss: 0.6798 - val_accuracy: 0.7934\n"
     ]
    },
    {
     "data": {
      "text/plain": [
       "<keras.callbacks.History at 0x7fab706289d0>"
      ]
     },
     "execution_count": 10,
     "metadata": {},
     "output_type": "execute_result"
    }
   ],
   "source": [
    "train_gen = DataGen(path_input = \"train_small\" , path_mask = './mask_train_2017' , batch_size = batch_size , image_size = image_size)\n",
    "val_gen = DataGen(path_input =  \"val_small\", path_mask =  './mask_val_2017', batch_size = batch_size , image_size = image_size, split='val')\n",
    "\n",
    "\n",
    "train_steps =  len(os.listdir(\"train_small\"))/batch_size\n",
    "\n",
    "\n",
    "model.fit(train_gen , validation_data = val_gen , steps_per_epoch = train_steps , epochs=epochs)"
   ]
  },
  {
   "cell_type": "code",
   "execution_count": 11,
   "id": "b9be04a4",
   "metadata": {},
   "outputs": [
    {
     "name": "stdout",
     "output_type": "stream",
     "text": [
      "mkdir: cannot create directory ‘saved_models’: File exists\r\n"
     ]
    },
    {
     "name": "stderr",
     "output_type": "stream",
     "text": [
      "WARNING:absl:Found untraced functions such as _jit_compiled_convolution_op, _jit_compiled_convolution_op, _jit_compiled_convolution_op, _jit_compiled_convolution_op, _jit_compiled_convolution_op while saving (showing 5 of 25). These functions will not be directly callable after loading.\n"
     ]
    },
    {
     "name": "stdout",
     "output_type": "stream",
     "text": [
      "INFO:tensorflow:Assets written to: saved_models/unet_model_v3.2/assets\n"
     ]
    },
    {
     "name": "stderr",
     "output_type": "stream",
     "text": [
      "INFO:tensorflow:Assets written to: saved_models/unet_model_v3.2/assets\n"
     ]
    }
   ],
   "source": [
    "!mkdir saved_models\n",
    "model.save('saved_models/unet_model_v3.2')"
   ]
  },
  {
   "cell_type": "code",
   "execution_count": 14,
   "id": "9369d7b0",
   "metadata": {},
   "outputs": [
    {
     "name": "stdout",
     "output_type": "stream",
     "text": [
      "1/1 [==============================] - 2s 2s/step\n"
     ]
    },
    {
     "data": {
      "text/plain": [
       "<matplotlib.image.AxesImage at 0x7fae7efbe6a0>"
      ]
     },
     "execution_count": 14,
     "metadata": {},
     "output_type": "execute_result"
    },
    {
     "data": {
      "image/png": "[encoded data removed]",
      "text/plain": [
       "<Figure size 432x288 with 2 Axes>"
      ]
     },
     "metadata": {
      "needs_background": "light"
     },
     "output_type": "display_data"
    }
   ],
   "source": [
    "x, y = val_gen.__getitem__(4)\n",
    "result = model.predict(x)\n",
    "\n",
    "result = result > 0.5\n",
    "\n",
    "fig = plt.figure()\n",
    "fig.subplots_adjust(hspace=0.4, wspace=0.4)\n",
    "\n",
    "ax = fig.add_subplot(1, 2, 1)\n",
    "ax.imshow(np.reshape(y[0]*255, (image_size, image_size)), cmap=\"gray\")\n",
    "\n",
    "ax = fig.add_subplot(1, 2, 2)\n",
    "ax.imshow(np.reshape(result[0]*255, (image_size, image_size)), cmap=\"gray\")"
   ]
  },
  {
   "cell_type": "code",
   "execution_count": 4,
   "id": "76fe82f1",
   "metadata": {},
   "outputs": [
    {
     "name": "stderr",
     "output_type": "stream",
     "text": [
      "2022-06-10 07:41:55.922397: W tensorflow/stream_executor/platform/default/dso_loader.cc:64] Could not load dynamic library 'libcudart.so.11.0'; dlerror: libcudart.so.11.0: cannot open shared object file: No such file or directory; LD_LIBRARY_PATH: /home/mmkeskar/.local/lib/python3.9/site-packages/cv2/../../lib64:/usr/local/nvidia/lib64:/usr/local/cuda/lib64\n",
      "2022-06-10 07:41:55.922879: W tensorflow/stream_executor/platform/default/dso_loader.cc:64] Could not load dynamic library 'libcublas.so.11'; dlerror: libcublas.so.11: cannot open shared object file: No such file or directory; LD_LIBRARY_PATH: /home/mmkeskar/.local/lib/python3.9/site-packages/cv2/../../lib64:/usr/local/nvidia/lib64:/usr/local/cuda/lib64\n",
      "2022-06-10 07:41:55.923230: W tensorflow/stream_executor/platform/default/dso_loader.cc:64] Could not load dynamic library 'libcublasLt.so.11'; dlerror: libcublasLt.so.11: cannot open shared object file: No such file or directory; LD_LIBRARY_PATH: /home/mmkeskar/.local/lib/python3.9/site-packages/cv2/../../lib64:/usr/local/nvidia/lib64:/usr/local/cuda/lib64\n",
      "2022-06-10 07:41:55.923552: W tensorflow/stream_executor/platform/default/dso_loader.cc:64] Could not load dynamic library 'libcufft.so.10'; dlerror: libcufft.so.10: cannot open shared object file: No such file or directory; LD_LIBRARY_PATH: /home/mmkeskar/.local/lib/python3.9/site-packages/cv2/../../lib64:/usr/local/nvidia/lib64:/usr/local/cuda/lib64\n",
      "2022-06-10 07:41:55.923882: W tensorflow/stream_executor/platform/default/dso_loader.cc:64] Could not load dynamic library 'libcurand.so.10'; dlerror: libcurand.so.10: cannot open shared object file: No such file or directory; LD_LIBRARY_PATH: /home/mmkeskar/.local/lib/python3.9/site-packages/cv2/../../lib64:/usr/local/nvidia/lib64:/usr/local/cuda/lib64\n",
      "2022-06-10 07:41:55.924213: W tensorflow/stream_executor/platform/default/dso_loader.cc:64] Could not load dynamic library 'libcusolver.so.11'; dlerror: libcusolver.so.11: cannot open shared object file: No such file or directory; LD_LIBRARY_PATH: /home/mmkeskar/.local/lib/python3.9/site-packages/cv2/../../lib64:/usr/local/nvidia/lib64:/usr/local/cuda/lib64\n",
      "2022-06-10 07:41:55.924582: W tensorflow/stream_executor/platform/default/dso_loader.cc:64] Could not load dynamic library 'libcusparse.so.11'; dlerror: libcusparse.so.11: cannot open shared object file: No such file or directory; LD_LIBRARY_PATH: /home/mmkeskar/.local/lib/python3.9/site-packages/cv2/../../lib64:/usr/local/nvidia/lib64:/usr/local/cuda/lib64\n",
      "2022-06-10 07:41:55.924920: W tensorflow/stream_executor/platform/default/dso_loader.cc:64] Could not load dynamic library 'libcudnn.so.8'; dlerror: libcudnn.so.8: cannot open shared object file: No such file or directory; LD_LIBRARY_PATH: /home/mmkeskar/.local/lib/python3.9/site-packages/cv2/../../lib64:/usr/local/nvidia/lib64:/usr/local/cuda/lib64\n",
      "2022-06-10 07:41:55.924938: W tensorflow/core/common_runtime/gpu/gpu_device.cc:1850] Cannot dlopen some GPU libraries. Please make sure the missing libraries mentioned above are installed properly if you would like to use GPU. Follow the guide at https://www.tensorflow.org/install/gpu for how to download and setup the required libraries for your platform.\n",
      "Skipping registering GPU devices...\n",
      "2022-06-10 07:41:55.925458: I tensorflow/core/platform/cpu_feature_guard.cc:193] This TensorFlow binary is optimized with oneAPI Deep Neural Network Library (oneDNN) to use the following CPU instructions in performance-critical operations:  AVX2 FMA\n",
      "To enable them in other operations, rebuild TensorFlow with the appropriate compiler flags.\n"
     ]
    },
    {
     "name": "stdout",
     "output_type": "stream",
     "text": [
      "19/19 [==============================] - 46s 2s/step - loss: 0.6772 - accuracy: 0.8004\n"
     ]
    }
   ],
   "source": [
    "image_size = 128 \n",
    "epochs = 10\n",
    "batch_size = 32\n",
    "val_gen = DataGen(path_input =  \"val_small\", path_mask =  './mask_val_2017', batch_size = batch_size , image_size = image_size, split='val')\n",
    "\n",
    "model = tf.keras.models.load_model('saved_models/unet_model_v3.2')\n",
    "result = model.evaluate(val_gen)"
   ]
  },
  {
   "cell_type": "code",
   "execution_count": null,
   "id": "4755c6a2",
   "metadata": {},
   "outputs": [],
   "source": []
  }
 ],
 "metadata": {
  "kernelspec": {
   "display_name": "Python 3 (clean)",
   "language": "python",
   "name": "python3_clean"
  },
  "language_info": {
   "codemirror_mode": {
    "name": "ipython",
    "version": 3
   },
   "file_extension": ".py",
   "mimetype": "text/x-python",
   "name": "python",
   "nbconvert_exporter": "python",
   "pygments_lexer": "ipython3",
   "version": "3.9.5"
  }
 },
 "nbformat": 4,
 "nbformat_minor": 5
}
